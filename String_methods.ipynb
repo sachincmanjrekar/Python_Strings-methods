{
 "cells": [
  {
   "cell_type": "markdown",
   "id": "ad3b251b",
   "metadata": {},
   "source": [
    "ALL STRING METHODS"
   ]
  },
  {
   "cell_type": "code",
   "execution_count": 1,
   "id": "b03f50ec",
   "metadata": {},
   "outputs": [
    {
     "data": {
      "text/plain": [
       "['__add__',\n",
       " '__class__',\n",
       " '__contains__',\n",
       " '__delattr__',\n",
       " '__dir__',\n",
       " '__doc__',\n",
       " '__eq__',\n",
       " '__format__',\n",
       " '__ge__',\n",
       " '__getattribute__',\n",
       " '__getitem__',\n",
       " '__getnewargs__',\n",
       " '__gt__',\n",
       " '__hash__',\n",
       " '__init__',\n",
       " '__init_subclass__',\n",
       " '__iter__',\n",
       " '__le__',\n",
       " '__len__',\n",
       " '__lt__',\n",
       " '__mod__',\n",
       " '__mul__',\n",
       " '__ne__',\n",
       " '__new__',\n",
       " '__reduce__',\n",
       " '__reduce_ex__',\n",
       " '__repr__',\n",
       " '__rmod__',\n",
       " '__rmul__',\n",
       " '__setattr__',\n",
       " '__sizeof__',\n",
       " '__str__',\n",
       " '__subclasshook__',\n",
       " 'capitalize',\n",
       " 'casefold',\n",
       " 'center',\n",
       " 'count',\n",
       " 'encode',\n",
       " 'endswith',\n",
       " 'expandtabs',\n",
       " 'find',\n",
       " 'format',\n",
       " 'format_map',\n",
       " 'index',\n",
       " 'isalnum',\n",
       " 'isalpha',\n",
       " 'isascii',\n",
       " 'isdecimal',\n",
       " 'isdigit',\n",
       " 'isidentifier',\n",
       " 'islower',\n",
       " 'isnumeric',\n",
       " 'isprintable',\n",
       " 'isspace',\n",
       " 'istitle',\n",
       " 'isupper',\n",
       " 'join',\n",
       " 'ljust',\n",
       " 'lower',\n",
       " 'lstrip',\n",
       " 'maketrans',\n",
       " 'partition',\n",
       " 'removeprefix',\n",
       " 'removesuffix',\n",
       " 'replace',\n",
       " 'rfind',\n",
       " 'rindex',\n",
       " 'rjust',\n",
       " 'rpartition',\n",
       " 'rsplit',\n",
       " 'rstrip',\n",
       " 'split',\n",
       " 'splitlines',\n",
       " 'startswith',\n",
       " 'strip',\n",
       " 'swapcase',\n",
       " 'title',\n",
       " 'translate',\n",
       " 'upper',\n",
       " 'zfill']"
      ]
     },
     "execution_count": 1,
     "metadata": {},
     "output_type": "execute_result"
    }
   ],
   "source": [
    "a=\"ad\"\n",
    "dir(a)"
   ]
  },
  {
   "cell_type": "markdown",
   "id": "6dd6881a",
   "metadata": {},
   "source": [
    "### splitlines()  {1}"
   ]
  },
  {
   "cell_type": "code",
   "execution_count": 18,
   "id": "113f38af",
   "metadata": {},
   "outputs": [],
   "source": [
    "s=\"sachin and sheela\\nwent to hotel\\ntohave dinner\""
   ]
  },
  {
   "cell_type": "code",
   "execution_count": 19,
   "id": "245b096d",
   "metadata": {},
   "outputs": [
    {
     "data": {
      "text/plain": [
       "['sachin and sheela', 'went to hotel', 'tohave dinner']"
      ]
     },
     "execution_count": 19,
     "metadata": {},
     "output_type": "execute_result"
    }
   ],
   "source": [
    "s.splitlines()"
   ]
  },
  {
   "cell_type": "code",
   "execution_count": 20,
   "id": "3f7b7524",
   "metadata": {},
   "outputs": [
    {
     "data": {
      "text/plain": [
       "['sachin and sheela\\n', 'went to hotel\\n', 'tohave dinner']"
      ]
     },
     "execution_count": 20,
     "metadata": {},
     "output_type": "execute_result"
    }
   ],
   "source": [
    "s.splitlines(True)"
   ]
  },
  {
   "cell_type": "markdown",
   "id": "b2c4f805",
   "metadata": {},
   "source": [
    "### split(),rsplit(),join()  {3}"
   ]
  },
  {
   "cell_type": "code",
   "execution_count": 14,
   "id": "f5935fbd",
   "metadata": {},
   "outputs": [],
   "source": [
    "e=\"sachin and sheela and pastlife\""
   ]
  },
  {
   "cell_type": "code",
   "execution_count": 15,
   "id": "d9ca1447",
   "metadata": {},
   "outputs": [
    {
     "data": {
      "text/plain": [
       "['sachin ', ' sheela ', ' pastlife']"
      ]
     },
     "execution_count": 15,
     "metadata": {},
     "output_type": "execute_result"
    }
   ],
   "source": [
    "e.split(\"and\")"
   ]
  },
  {
   "cell_type": "code",
   "execution_count": 16,
   "id": "6090a8c7",
   "metadata": {},
   "outputs": [
    {
     "data": {
      "text/plain": [
       "['sachin and sheela ', ' pastlife']"
      ]
     },
     "execution_count": 16,
     "metadata": {},
     "output_type": "execute_result"
    }
   ],
   "source": [
    "e.rsplit(\"and\",maxsplit=1)  #from right to left split happens."
   ]
  },
  {
   "cell_type": "code",
   "execution_count": 17,
   "id": "62217fed",
   "metadata": {},
   "outputs": [],
   "source": [
    "#e.lsplit(\"and\")  #this doesn't exist"
   ]
  },
  {
   "cell_type": "code",
   "execution_count": 45,
   "id": "ec7496dd",
   "metadata": {},
   "outputs": [
    {
     "name": "stdout",
     "output_type": "stream",
     "text": [
      "a-b-c-d\n",
      "1-2-3-4\n"
     ]
    }
   ],
   "source": [
    "t1={'a':'1','b':'2','c':'3','d':'4'}\n",
    "print(\"-\".join(t1))\n",
    "print(\"-\".join(t1.values()))"
   ]
  },
  {
   "cell_type": "markdown",
   "id": "9ad0731c",
   "metadata": {},
   "source": [
    "### partition(),rpartition() {2}"
   ]
  },
  {
   "cell_type": "code",
   "execution_count": 9,
   "id": "fba59131",
   "metadata": {},
   "outputs": [],
   "source": [
    "a=\"sameer and sheela and soumya\""
   ]
  },
  {
   "cell_type": "code",
   "execution_count": 10,
   "id": "3426bff6",
   "metadata": {},
   "outputs": [
    {
     "data": {
      "text/plain": [
       "('sameer ', 'and', ' sheela and soumya')"
      ]
     },
     "execution_count": 10,
     "metadata": {},
     "output_type": "execute_result"
    }
   ],
   "source": [
    "a.partition(\"and\")   #partition from LEFT TO RIGHT only once ,also prints the splitter, Tuple total length ALWAYS 3."
   ]
  },
  {
   "cell_type": "code",
   "execution_count": 11,
   "id": "09ecfcdf",
   "metadata": {},
   "outputs": [
    {
     "data": {
      "text/plain": [
       "('sameer and sheela and soumya', '', '')"
      ]
     },
     "execution_count": 11,
     "metadata": {},
     "output_type": "execute_result"
    }
   ],
   "source": [
    "a.partition(\"what\")  #print 2 empty strings AT END"
   ]
  },
  {
   "cell_type": "code",
   "execution_count": 12,
   "id": "a214417e",
   "metadata": {},
   "outputs": [
    {
     "data": {
      "text/plain": [
       "('sameer and sheela ', 'and', ' soumya')"
      ]
     },
     "execution_count": 12,
     "metadata": {},
     "output_type": "execute_result"
    }
   ],
   "source": [
    "a.rpartition(\"and\") #its RIGHT TO LEFT"
   ]
  },
  {
   "cell_type": "code",
   "execution_count": 13,
   "id": "2c8e8650",
   "metadata": {},
   "outputs": [
    {
     "data": {
      "text/plain": [
       "('', '', 'sameer and sheela and soumya')"
      ]
     },
     "execution_count": 13,
     "metadata": {},
     "output_type": "execute_result"
    }
   ],
   "source": [
    "a.rpartition(\"what\")  #print 2 empty strings AT BEGINNING"
   ]
  },
  {
   "cell_type": "markdown",
   "id": "92bd67bd",
   "metadata": {},
   "source": [
    "### lower(),casefold(),upper(),title(),capitalize(),swapcase()   {6}"
   ]
  },
  {
   "cell_type": "code",
   "execution_count": 2,
   "id": "f9d1e861",
   "metadata": {},
   "outputs": [],
   "source": [
    "a=\"the Sameer and Sheela went to same college they love $romance and $cinema . we made lots of $Loveß.\""
   ]
  },
  {
   "cell_type": "code",
   "execution_count": 3,
   "id": "c0083ed4",
   "metadata": {},
   "outputs": [
    {
     "data": {
      "text/plain": [
       "'the sameer and sheela went to same college they love $romance and $cinema . we made lots of $loveß.'"
      ]
     },
     "execution_count": 3,
     "metadata": {},
     "output_type": "execute_result"
    }
   ],
   "source": [
    "a.lower()"
   ]
  },
  {
   "cell_type": "code",
   "execution_count": 4,
   "id": "574dc3a0",
   "metadata": {},
   "outputs": [
    {
     "data": {
      "text/plain": [
       "'the sameer and sheela went to same college they love $romance and $cinema . we made lots of $lovess.'"
      ]
     },
     "execution_count": 4,
     "metadata": {},
     "output_type": "execute_result"
    }
   ],
   "source": [
    "a.casefold()  #More powerful than lower() , it can do for charcters"
   ]
  },
  {
   "cell_type": "code",
   "execution_count": 5,
   "id": "854b6e95",
   "metadata": {},
   "outputs": [
    {
     "data": {
      "text/plain": [
       "'THE SAMEER AND SHEELA WENT TO SAME COLLEGE THEY LOVE $ROMANCE AND $CINEMA . WE MADE LOTS OF $LOVESS.'"
      ]
     },
     "execution_count": 5,
     "metadata": {},
     "output_type": "execute_result"
    }
   ],
   "source": [
    "a.upper()"
   ]
  },
  {
   "cell_type": "code",
   "execution_count": 6,
   "id": "87cadd28",
   "metadata": {},
   "outputs": [
    {
     "data": {
      "text/plain": [
       "'The Sameer And Sheela Went To Same College They Love $Romance And $Cinema . We Made Lots Of $Loveß.'"
      ]
     },
     "execution_count": 6,
     "metadata": {},
     "output_type": "execute_result"
    }
   ],
   "source": [
    "a.title()       #First letter of the ALL WORDS in the string is capitalized"
   ]
  },
  {
   "cell_type": "code",
   "execution_count": 7,
   "id": "98a5a3a8",
   "metadata": {},
   "outputs": [
    {
     "data": {
      "text/plain": [
       "'The sameer and sheela went to same college they love $romance and $cinema . we made lots of $loveß.'"
      ]
     },
     "execution_count": 7,
     "metadata": {},
     "output_type": "execute_result"
    }
   ],
   "source": [
    "a.capitalize()  #ONLY First letter of the ENTIRE STRING is capitalized"
   ]
  },
  {
   "cell_type": "code",
   "execution_count": 8,
   "id": "b066b4ee",
   "metadata": {},
   "outputs": [
    {
     "data": {
      "text/plain": [
       "'THE sAMEER AND sHEELA WENT TO SAME COLLEGE THEY LOVE $ROMANCE AND $CINEMA . WE MADE LOTS OF $lOVESS.'"
      ]
     },
     "execution_count": 8,
     "metadata": {},
     "output_type": "execute_result"
    }
   ],
   "source": [
    "a.swapcase()     "
   ]
  },
  {
   "cell_type": "markdown",
   "id": "b576274a",
   "metadata": {},
   "source": [
    "### lstrip(),removeprefix(),rstrip(),removesuffix()   {4}"
   ]
  },
  {
   "cell_type": "code",
   "execution_count": 58,
   "id": "7479432a",
   "metadata": {},
   "outputs": [],
   "source": [
    "g=\"bwtwww.sachin.commrt\""
   ]
  },
  {
   "cell_type": "code",
   "execution_count": 59,
   "id": "6efb60ce",
   "metadata": {},
   "outputs": [
    {
     "data": {
      "text/plain": [
       "'.sachin.co'"
      ]
     },
     "execution_count": 59,
     "metadata": {},
     "output_type": "execute_result"
    }
   ],
   "source": [
    "g.strip(\"bwtmr\") #strip everything mentioned in argument,otherwise it will remove all leading and trailing WHITESPACES "
   ]
  },
  {
   "cell_type": "code",
   "execution_count": 60,
   "id": "ab2ff1e8",
   "metadata": {},
   "outputs": [
    {
     "data": {
      "text/plain": [
       "'.sachin.commrt'"
      ]
     },
     "execution_count": 60,
     "metadata": {},
     "output_type": "execute_result"
    }
   ],
   "source": [
    "g.lstrip(\"bwt\")  #remove all mentioned charcters at the left"
   ]
  },
  {
   "cell_type": "code",
   "execution_count": 61,
   "id": "5c1d55fe",
   "metadata": {},
   "outputs": [
    {
     "data": {
      "text/plain": [
       "'www.sachin.commrt'"
      ]
     },
     "execution_count": 61,
     "metadata": {},
     "output_type": "execute_result"
    }
   ],
   "source": [
    "g.removeprefix(\"bwt\") #remove exact matching string at the left"
   ]
  },
  {
   "cell_type": "code",
   "execution_count": 62,
   "id": "a3c75736",
   "metadata": {},
   "outputs": [
    {
     "data": {
      "text/plain": [
       "'bwtwww.sachin.co'"
      ]
     },
     "execution_count": 62,
     "metadata": {},
     "output_type": "execute_result"
    }
   ],
   "source": [
    "g.rstrip(\"mrt\")   #remove all mentioned charcters at the right"
   ]
  },
  {
   "cell_type": "code",
   "execution_count": 63,
   "id": "6dc9b90d",
   "metadata": {},
   "outputs": [
    {
     "data": {
      "text/plain": [
       "'bwtwww.sachin.com'"
      ]
     },
     "execution_count": 63,
     "metadata": {},
     "output_type": "execute_result"
    }
   ],
   "source": [
    "g.removesuffix(\"mrt\")   #remove exact matching string at the right"
   ]
  },
  {
   "cell_type": "markdown",
   "id": "099879f5",
   "metadata": {},
   "source": [
    "### center(),ljust(),rjust(),zfill()   {4}"
   ]
  },
  {
   "cell_type": "code",
   "execution_count": 64,
   "id": "e19426f3",
   "metadata": {},
   "outputs": [],
   "source": [
    "b=\"sachin\""
   ]
  },
  {
   "cell_type": "code",
   "execution_count": 65,
   "id": "4fce2097",
   "metadata": {},
   "outputs": [
    {
     "data": {
      "text/plain": [
       "'--sachin--'"
      ]
     },
     "execution_count": 65,
     "metadata": {},
     "output_type": "execute_result"
    }
   ],
   "source": [
    "b.center(10,\"-\")"
   ]
  },
  {
   "cell_type": "code",
   "execution_count": 66,
   "id": "76f196e4",
   "metadata": {},
   "outputs": [
    {
     "data": {
      "text/plain": [
       "'sachin----'"
      ]
     },
     "execution_count": 66,
     "metadata": {},
     "output_type": "execute_result"
    }
   ],
   "source": [
    "b.ljust(10,\"-\")"
   ]
  },
  {
   "cell_type": "code",
   "execution_count": 67,
   "id": "f8aa6c6b",
   "metadata": {},
   "outputs": [
    {
     "data": {
      "text/plain": [
       "'----sachin'"
      ]
     },
     "execution_count": 67,
     "metadata": {},
     "output_type": "execute_result"
    }
   ],
   "source": [
    "b.rjust(10,\"-\") "
   ]
  },
  {
   "cell_type": "code",
   "execution_count": 68,
   "id": "98962a55",
   "metadata": {},
   "outputs": [
    {
     "data": {
      "text/plain": [
       "'0000sachin'"
      ]
     },
     "execution_count": 68,
     "metadata": {},
     "output_type": "execute_result"
    }
   ],
   "source": [
    "b.zfill(10)"
   ]
  },
  {
   "cell_type": "markdown",
   "id": "249bcafe",
   "metadata": {},
   "source": [
    "### isalnum(),isalpha(),count(),isspace(),istitle(),isupper(),islower(),isidentifier(),isprintable()    {9}"
   ]
  },
  {
   "cell_type": "code",
   "execution_count": 69,
   "id": "ab71db7f",
   "metadata": {},
   "outputs": [
    {
     "data": {
      "text/plain": [
       "True"
      ]
     },
     "execution_count": 69,
     "metadata": {},
     "output_type": "execute_result"
    }
   ],
   "source": [
    "h=\"afa9\"  # A-Z 0-9\n",
    "h.isalnum()"
   ]
  },
  {
   "cell_type": "code",
   "execution_count": 70,
   "id": "cbcb82ab",
   "metadata": {},
   "outputs": [
    {
     "data": {
      "text/plain": [
       "True"
      ]
     },
     "execution_count": 70,
     "metadata": {},
     "output_type": "execute_result"
    }
   ],
   "source": [
    "k=\"\\u00BDm\\u00B2\" #unicode character\n",
    "k.isalnum() "
   ]
  },
  {
   "cell_type": "code",
   "execution_count": 71,
   "id": "cbb2e5e5",
   "metadata": {},
   "outputs": [
    {
     "name": "stdout",
     "output_type": "stream",
     "text": [
      "value is ½m²\n"
     ]
    }
   ],
   "source": [
    "print(f'value is {k}')"
   ]
  },
  {
   "cell_type": "code",
   "execution_count": 72,
   "id": "35fdeea1",
   "metadata": {},
   "outputs": [
    {
     "data": {
      "text/plain": [
       "True"
      ]
     },
     "execution_count": 72,
     "metadata": {},
     "output_type": "execute_result"
    }
   ],
   "source": [
    "i=\"sgagg\"\n",
    "i.isalpha()"
   ]
  },
  {
   "cell_type": "code",
   "execution_count": 4,
   "id": "1f247233",
   "metadata": {},
   "outputs": [
    {
     "data": {
      "text/plain": [
       "False"
      ]
     },
     "execution_count": 4,
     "metadata": {},
     "output_type": "execute_result"
    }
   ],
   "source": [
    "'''WHITESPACES are following\n",
    "\n",
    "‘ ’ – Space\n",
    "‘\\t’ – Horizontal tab\n",
    "‘\\v’ – Vertical tab\n",
    "‘\\n’ – Newline\n",
    "‘\\r’ – Carriage return\n",
    "‘\\f’ – Feed\n",
    "\n",
    "'''\n",
    "\n",
    "s1=\"\\n\\r\\f\" #it remove all whitespaces\n",
    "s1.isspace()\n",
    "\n",
    "s2=\"<br/>\"\n",
    "s2.isspace()"
   ]
  },
  {
   "cell_type": "code",
   "execution_count": 74,
   "id": "81e42945",
   "metadata": {},
   "outputs": [
    {
     "data": {
      "text/plain": [
       "True"
      ]
     },
     "execution_count": 74,
     "metadata": {},
     "output_type": "execute_result"
    }
   ],
   "source": [
    "d=\"I Love You\"\n",
    "d.istitle()"
   ]
  },
  {
   "cell_type": "code",
   "execution_count": 75,
   "id": "e1293cc6",
   "metadata": {},
   "outputs": [
    {
     "data": {
      "text/plain": [
       "True"
      ]
     },
     "execution_count": 75,
     "metadata": {},
     "output_type": "execute_result"
    }
   ],
   "source": [
    "d=\"I HATE YOU\"\n",
    "d.isupper()"
   ]
  },
  {
   "cell_type": "code",
   "execution_count": 76,
   "id": "6055d849",
   "metadata": {},
   "outputs": [
    {
     "data": {
      "text/plain": [
       "True"
      ]
     },
     "execution_count": 76,
     "metadata": {},
     "output_type": "execute_result"
    }
   ],
   "source": [
    "d=\"i don't\"\n",
    "d.islower()"
   ]
  },
  {
   "cell_type": "code",
   "execution_count": 77,
   "id": "339914fc",
   "metadata": {},
   "outputs": [
    {
     "data": {
      "text/plain": [
       "True"
      ]
     },
     "execution_count": 77,
     "metadata": {},
     "output_type": "execute_result"
    }
   ],
   "source": [
    "f=\"ff_6\"\n",
    "f.isidentifier()"
   ]
  },
  {
   "cell_type": "code",
   "execution_count": 11,
   "id": "576462e6",
   "metadata": {},
   "outputs": [
    {
     "data": {
      "text/plain": [
       "False"
      ]
     },
     "execution_count": 11,
     "metadata": {},
     "output_type": "execute_result"
    }
   ],
   "source": [
    "s1=\"\\n\"\n",
    "s1.isprintable()"
   ]
  },
  {
   "cell_type": "markdown",
   "id": "84b756d7",
   "metadata": {},
   "source": [
    "### isdecimal(),isdigit(),isnumeric()   {3}"
   ]
  },
  {
   "cell_type": "code",
   "execution_count": 78,
   "id": "4328f1ba",
   "metadata": {},
   "outputs": [],
   "source": [
    "s2=\"123\"     #True if 0-9\n",
    "s3=\"\\u0033\"  #3 #unicode string \n",
    "s4=\"\\u0047\"  #G\n",
    "s5=\"\\u00B2\"  #²\n",
    "s6=\"\\u00BD\"  #½"
   ]
  },
  {
   "cell_type": "code",
   "execution_count": 79,
   "id": "2ac01e92",
   "metadata": {},
   "outputs": [
    {
     "name": "stdout",
     "output_type": "stream",
     "text": [
      "True {'123'}\n",
      "True {'3'}\n",
      "False {'G'}\n",
      "False {'²'}\n",
      "False {'½'}\n"
     ]
    }
   ],
   "source": [
    "print(s2.isdecimal(),{s2})  \n",
    "print(s3.isdecimal(),{s3})  \n",
    "print(s4.isdecimal(),{s4})\n",
    "print(s5.isdecimal(),{s5})\n",
    "print(s6.isdecimal(),{s6})"
   ]
  },
  {
   "cell_type": "code",
   "execution_count": 80,
   "id": "9037f196",
   "metadata": {},
   "outputs": [
    {
     "name": "stdout",
     "output_type": "stream",
     "text": [
      "True {'123'}\n",
      "True {'3'}\n",
      "False {'G'}\n",
      "True {'²'}\n",
      "False {'½'}\n"
     ]
    }
   ],
   "source": [
    "print(s2.isdigit(),{s2})  \n",
    "print(s3.isdigit(),{s3})  \n",
    "print(s4.isdigit(),{s4})\n",
    "print(s5.isdigit(),{s5})\n",
    "print(s6.isdigit(),{s6})"
   ]
  },
  {
   "cell_type": "code",
   "execution_count": 81,
   "id": "adfc5600",
   "metadata": {},
   "outputs": [
    {
     "name": "stdout",
     "output_type": "stream",
     "text": [
      "True {'123'}\n",
      "True {'3'}\n",
      "False {'G'}\n",
      "True {'²'}\n",
      "True {'½'}\n"
     ]
    }
   ],
   "source": [
    "print(s2.isnumeric(),{s2})  \n",
    "print(s3.isnumeric(),{s3})  \n",
    "print(s4.isnumeric(),{s4})\n",
    "print(s5.isnumeric(),{s5})\n",
    "print(s6.isnumeric(),{s6})"
   ]
  },
  {
   "cell_type": "markdown",
   "id": "a780c962",
   "metadata": {},
   "source": [
    "### count(),index(),rindex(),find(),rfind()   {5}"
   ]
  },
  {
   "cell_type": "code",
   "execution_count": 82,
   "id": "8083397f",
   "metadata": {},
   "outputs": [],
   "source": [
    "s1=\"scuderia ferrari\""
   ]
  },
  {
   "cell_type": "code",
   "execution_count": 83,
   "id": "47bfcdd6",
   "metadata": {},
   "outputs": [
    {
     "name": "stdout",
     "output_type": "stream",
     "text": [
      "2\n",
      "0\n"
     ]
    }
   ],
   "source": [
    "print(s1.count(\"er\",4,-1))#-1 means from index 3 till the end\n",
    "print(s1.count(\"er\",4,5)) # index 3 to index 4"
   ]
  },
  {
   "cell_type": "code",
   "execution_count": 84,
   "id": "fa97ede5",
   "metadata": {},
   "outputs": [
    {
     "name": "stdout",
     "output_type": "stream",
     "text": [
      "4\n"
     ]
    },
    {
     "ename": "ValueError",
     "evalue": "substring not found",
     "output_type": "error",
     "traceback": [
      "\u001b[1;31m---------------------------------------------------------------------------\u001b[0m",
      "\u001b[1;31mValueError\u001b[0m                                Traceback (most recent call last)",
      "\u001b[1;32m~\\AppData\\Local\\Temp\\ipykernel_11444\\507311945.py\u001b[0m in \u001b[0;36m<module>\u001b[1;34m\u001b[0m\n\u001b[0;32m      1\u001b[0m \u001b[0mprint\u001b[0m\u001b[1;33m(\u001b[0m\u001b[0ms1\u001b[0m\u001b[1;33m.\u001b[0m\u001b[0mindex\u001b[0m\u001b[1;33m(\u001b[0m\u001b[1;34m\"er\"\u001b[0m\u001b[1;33m,\u001b[0m\u001b[1;36m4\u001b[0m\u001b[1;33m,\u001b[0m\u001b[1;33m-\u001b[0m\u001b[1;36m1\u001b[0m\u001b[1;33m)\u001b[0m\u001b[1;33m)\u001b[0m\u001b[1;31m#-1 means from index 4 till the end\u001b[0m\u001b[1;33m\u001b[0m\u001b[1;33m\u001b[0m\u001b[0m\n\u001b[1;32m----> 2\u001b[1;33m \u001b[0mprint\u001b[0m\u001b[1;33m(\u001b[0m\u001b[0ms1\u001b[0m\u001b[1;33m.\u001b[0m\u001b[0mindex\u001b[0m\u001b[1;33m(\u001b[0m\u001b[1;34m\"er\"\u001b[0m\u001b[1;33m,\u001b[0m\u001b[1;36m4\u001b[0m\u001b[1;33m,\u001b[0m\u001b[1;36m5\u001b[0m\u001b[1;33m)\u001b[0m\u001b[1;33m)\u001b[0m\u001b[1;33m\u001b[0m\u001b[1;33m\u001b[0m\u001b[0m\n\u001b[0m",
      "\u001b[1;31mValueError\u001b[0m: substring not found"
     ]
    }
   ],
   "source": [
    "print(s1.index(\"er\",4,-1))#-1 means from index 4 till the end\n",
    "print(s1.index(\"er\",4,5))"
   ]
  },
  {
   "cell_type": "code",
   "execution_count": 85,
   "id": "881ac0b9",
   "metadata": {},
   "outputs": [
    {
     "name": "stdout",
     "output_type": "stream",
     "text": [
      "10\n"
     ]
    },
    {
     "ename": "ValueError",
     "evalue": "substring not found",
     "output_type": "error",
     "traceback": [
      "\u001b[1;31m---------------------------------------------------------------------------\u001b[0m",
      "\u001b[1;31mValueError\u001b[0m                                Traceback (most recent call last)",
      "\u001b[1;32m~\\AppData\\Local\\Temp\\ipykernel_11444\\2878807125.py\u001b[0m in \u001b[0;36m<module>\u001b[1;34m\u001b[0m\n\u001b[0;32m      1\u001b[0m \u001b[0mprint\u001b[0m\u001b[1;33m(\u001b[0m\u001b[0ms1\u001b[0m\u001b[1;33m.\u001b[0m\u001b[0mrindex\u001b[0m\u001b[1;33m(\u001b[0m\u001b[1;34m\"er\"\u001b[0m\u001b[1;33m,\u001b[0m\u001b[1;36m4\u001b[0m\u001b[1;33m,\u001b[0m\u001b[1;33m-\u001b[0m\u001b[1;36m1\u001b[0m\u001b[1;33m)\u001b[0m\u001b[1;33m)\u001b[0m\u001b[1;31m#-1 means from index 4 till the end , but LAST OCCURENCE or (right to left)\u001b[0m\u001b[1;33m\u001b[0m\u001b[1;33m\u001b[0m\u001b[0m\n\u001b[1;32m----> 2\u001b[1;33m \u001b[0mprint\u001b[0m\u001b[1;33m(\u001b[0m\u001b[0ms1\u001b[0m\u001b[1;33m.\u001b[0m\u001b[0mrindex\u001b[0m\u001b[1;33m(\u001b[0m\u001b[1;34m\"er\"\u001b[0m\u001b[1;33m,\u001b[0m\u001b[1;36m4\u001b[0m\u001b[1;33m,\u001b[0m\u001b[1;36m5\u001b[0m\u001b[1;33m)\u001b[0m\u001b[1;33m)\u001b[0m\u001b[1;33m\u001b[0m\u001b[1;33m\u001b[0m\u001b[0m\n\u001b[0m",
      "\u001b[1;31mValueError\u001b[0m: substring not found"
     ]
    }
   ],
   "source": [
    "print(s1.rindex(\"er\",4,-1))#-1 means from index 4 till the end , but LAST OCCURENCE or (right to left)\n",
    "print(s1.rindex(\"er\",4,5))"
   ]
  },
  {
   "cell_type": "code",
   "execution_count": 86,
   "id": "3cb4c850",
   "metadata": {},
   "outputs": [
    {
     "name": "stdout",
     "output_type": "stream",
     "text": [
      "4\n",
      "-1\n"
     ]
    }
   ],
   "source": [
    "print(s1.find(\"er\",4,-1))#-1 means from index 4 till the end\n",
    "print(s1.find(\"er\",4,5))"
   ]
  },
  {
   "cell_type": "code",
   "execution_count": 87,
   "id": "5a9e3170",
   "metadata": {},
   "outputs": [
    {
     "name": "stdout",
     "output_type": "stream",
     "text": [
      "10\n",
      "-1\n"
     ]
    }
   ],
   "source": [
    "print(s1.rfind(\"er\",4,-1))#-1 means from index 4 till the end ,but LAST OCCURENCE or (right to left)\n",
    "print(s1.rfind(\"er\",4,5))"
   ]
  },
  {
   "cell_type": "markdown",
   "id": "916052e8",
   "metadata": {},
   "source": [
    "### startswith(),endswith()   {2}"
   ]
  },
  {
   "cell_type": "code",
   "execution_count": 21,
   "id": "d803bc1a",
   "metadata": {},
   "outputs": [
    {
     "data": {
      "text/plain": [
       "33"
      ]
     },
     "execution_count": 21,
     "metadata": {},
     "output_type": "execute_result"
    }
   ],
   "source": [
    "s3=\"my name is sachin\"\n",
    "s4=\"sachin and sheela love each other\"\n",
    "len(s4)"
   ]
  },
  {
   "cell_type": "code",
   "execution_count": 23,
   "id": "02e3d93d",
   "metadata": {},
   "outputs": [
    {
     "name": "stdout",
     "output_type": "stream",
     "text": [
      "True\n",
      "True\n",
      "True\n"
     ]
    }
   ],
   "source": [
    "print(s3.startswith(\"name\",3,8))\n",
    "print(s4.startswith((\"sachin\",\"sheela\"),11,-1))  #either startswith sachin or shubhada\n",
    "print(s4.startswith((\"sachin\",\"sheela\"),11,35))  "
   ]
  },
  {
   "cell_type": "code",
   "execution_count": 24,
   "id": "bd09bc87",
   "metadata": {},
   "outputs": [
    {
     "name": "stdout",
     "output_type": "stream",
     "text": [
      "False\n",
      "False\n",
      "True\n"
     ]
    }
   ],
   "source": [
    "print(s3.endswith(\"name\",3,8))\n",
    "print(s4.endswith((\"sachin\",\"other\"),11,-1))\n",
    "print(s4.endswith((\"sachin\",\"other\"),11,35)) #either endswith sachin or shubhada"
   ]
  },
  {
   "cell_type": "markdown",
   "id": "243ad7f8",
   "metadata": {},
   "source": [
    "### replace(),expandtabs()   {2}"
   ]
  },
  {
   "cell_type": "code",
   "execution_count": 25,
   "id": "8adf27b7",
   "metadata": {},
   "outputs": [
    {
     "data": {
      "text/plain": [
       "'sachin-sheela-shreya,sakshi'"
      ]
     },
     "execution_count": 25,
     "metadata": {},
     "output_type": "execute_result"
    }
   ],
   "source": [
    "k1=\"sachin,sheela,shreya,sakshi\"\n",
    "k1.replace(\",\",\"-\",2)"
   ]
  },
  {
   "cell_type": "code",
   "execution_count": 19,
   "id": "57987074",
   "metadata": {},
   "outputs": [
    {
     "name": "stdout",
     "output_type": "stream",
     "text": [
      "lovechin\n"
     ]
    }
   ],
   "source": [
    "\n",
    "print(\"sachin\".replace(\"sa\",\"love\"))"
   ]
  },
  {
   "cell_type": "code",
   "execution_count": 14,
   "id": "40343a4f",
   "metadata": {},
   "outputs": [
    {
     "name": "stdout",
     "output_type": "stream",
     "text": [
      "asda\n"
     ]
    }
   ],
   "source": [
    "j=\"asda\"\n",
    "o=j.replace(\"asda\",\"sachin\")\n",
    "print(j)"
   ]
  },
  {
   "cell_type": "code",
   "execution_count": 95,
   "id": "ba6cddbd",
   "metadata": {},
   "outputs": [
    {
     "data": {
      "text/plain": [
       "'11  222 33  444444  5555    '"
      ]
     },
     "execution_count": 95,
     "metadata": {},
     "output_type": "execute_result"
    }
   ],
   "source": [
    "k2=\"11\\t222\\t33\\t444444\\t5555\\t\"\n",
    "k2.expandtabs(4)"
   ]
  },
  {
   "cell_type": "code",
   "execution_count": 96,
   "id": "e9e6e90e",
   "metadata": {},
   "outputs": [
    {
     "data": {
      "text/plain": [
       "'11    222    33    444444    5555    '"
      ]
     },
     "execution_count": 96,
     "metadata": {},
     "output_type": "execute_result"
    }
   ],
   "source": [
    "k2.replace(\"\\t\",\" \"*4)"
   ]
  },
  {
   "cell_type": "markdown",
   "id": "84e39a44",
   "metadata": {},
   "source": [
    "### maketrans(),translate()   {2}"
   ]
  },
  {
   "cell_type": "code",
   "execution_count": 97,
   "id": "784c74d9",
   "metadata": {},
   "outputs": [
    {
     "data": {
      "text/plain": [
       "{97: 102, 98: 103, 99: 104, 104: None, 105: None, 106: None}"
      ]
     },
     "execution_count": 97,
     "metadata": {},
     "output_type": "execute_result"
    }
   ],
   "source": [
    "first=\"abc\"\n",
    "second=\"fgh\"\n",
    "third=\"hij\"\n",
    "s3=\"abdhik\"\n",
    "table=s3.maketrans(first,second,third)\n",
    "table"
   ]
  },
  {
   "cell_type": "code",
   "execution_count": 98,
   "id": "1f5ff069",
   "metadata": {},
   "outputs": [
    {
     "data": {
      "text/plain": [
       "'fgdk'"
      ]
     },
     "execution_count": 98,
     "metadata": {},
     "output_type": "execute_result"
    }
   ],
   "source": [
    "'abdhik'.translate(table)"
   ]
  },
  {
   "cell_type": "markdown",
   "id": "d82773f6",
   "metadata": {},
   "source": [
    "### encode()   {1}"
   ]
  },
  {
   "cell_type": "code",
   "execution_count": 99,
   "id": "e9ec8948",
   "metadata": {},
   "outputs": [
    {
     "data": {
      "text/plain": [
       "b'i love you'"
      ]
     },
     "execution_count": 99,
     "metadata": {},
     "output_type": "execute_result"
    }
   ],
   "source": [
    "afg=\"i love you\"\n",
    "afg.encode(\"utf-8\")"
   ]
  },
  {
   "cell_type": "code",
   "execution_count": null,
   "id": "3e1b001b",
   "metadata": {},
   "outputs": [],
   "source": []
  }
 ],
 "metadata": {
  "kernelspec": {
   "display_name": "Python 3 (ipykernel)",
   "language": "python",
   "name": "python3"
  },
  "language_info": {
   "codemirror_mode": {
    "name": "ipython",
    "version": 3
   },
   "file_extension": ".py",
   "mimetype": "text/x-python",
   "name": "python",
   "nbconvert_exporter": "python",
   "pygments_lexer": "ipython3",
   "version": "3.9.13"
  }
 },
 "nbformat": 4,
 "nbformat_minor": 5
}
